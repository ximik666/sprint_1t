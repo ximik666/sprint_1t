{
 "cells": [
  {
   "cell_type": "markdown",
   "metadata": {},
   "source": [
    "### Знакомство со Spark\n",
    "##### Установили и запустили Spark на локальном компьютере с Windows\n",
    "\n",
    "![](./img/2022-12-06_15-30-40.png)\n",
    "\n",
    "##### Установка дополнительных библиотек в виртуальное окружение\n",
    "![](./img/2022-12-06_15-38-35.png)\n"
   ]
  },
  {
   "cell_type": "markdown",
   "metadata": {},
   "source": [
    "\n",
    "Мы попробуем использовать возможности Spark для анализа данных clickstream пользователей новостного Интернет-портала. \n",
    "\n",
    "a. Создайте схему будущего фрейма данных. Схема должна включать следующие атрибуты:\n",
    "\n",
    " · id - уникальный идентификатор посетителя сайта. Тип – последовательность чисел фиксированной длины. Данное поле не является первичным ключом.\n",
    "\n",
    " · timestamp – дата и время события в формате unix timestamp.\n",
    "\n",
    " · type – тип события, значение из списка (факт посещения(visit), клик по визуальному элементу страницы(click), скролл(scroll), перед на другую страницу(move)).\n",
    "\n",
    " · page_id – id текущей страницы. Тип - последовательность чисел фиксированной длины.\n",
    "\n",
    " · tag – каждая страница с новостью размечается редакцией специальными тегами, которые отражают тематику конкретной новости со страницы. Возможный список тематик: политика, спорт, медицина и т.д.\n",
    "\n",
    " · sign – наличие у пользователя личного кабинета. Значения – True/False."
   ]
  },
  {
   "cell_type": "code",
   "execution_count": 1,
   "metadata": {},
   "outputs": [
    {
     "name": "stdout",
     "output_type": "stream",
     "text": [
      "Requirement already satisfied: pyspark in c:\\users\\win-server\\appdata\\local\\programs\\python\\python311\\lib\\site-packages (3.3.1)\n",
      "Requirement already satisfied: py4j==0.10.9.5 in c:\\users\\win-server\\appdata\\local\\programs\\python\\python311\\lib\\site-packages (from pyspark) (0.10.9.5)\n"
     ]
    }
   ],
   "source": [
    "#!pip install pyspark"
   ]
  },
  {
   "cell_type": "code",
   "execution_count": 1,
   "metadata": {},
   "outputs": [],
   "source": [
    "#!pip install pyspark\n",
    "import pyspark.sql.types as T\n",
    "from pyspark.sql import SparkSession\n",
    "import pyspark.sql.functions as F\n",
    "from pyspark.sql.functions import udf\n",
    "from pyspark.sql.window import Window\n",
    "import datetime\n",
    "spark = SparkSession.builder.master(\"local\").appName(\"spark\").config(\"spark.driver.bindAddress\", \"localhost\").config(\"spark.ui.port\", \"4040\").getOrCreate()"
   ]
  },
  {
   "cell_type": "code",
   "execution_count": 11,
   "metadata": {},
   "outputs": [],
   "source": [
    "\n",
    "\n",
    "schema = T.StructType([T.StructField(\"id\", T.StringType(), True), T.StructField(\"timestamp\", T.LongType(), True), T.StructField(\"type\", T.StringType(), True), T.StructField(\"page_id\", T.IntegerType(), True), T.StructField(\"tag\", T.StringType(), True), T.StructField(\"sign\", T.BooleanType(), True)])"
   ]
  },
  {
   "cell_type": "markdown",
   "metadata": {},
   "source": [
    "Наполните датафрейм данными. Пример:\n",
    "\n",
    "(12345, 1667627426, \"click\", 101, \"Sport”, False)"
   ]
  },
  {
   "cell_type": "code",
   "execution_count": 12,
   "metadata": {},
   "outputs": [],
   "source": [
    "data =[(1, 1667617426, \"visit\", 101, 'Sport', True),\n",
    "       (1, 1667627486, \"scroll\", 101, 'Sport', True),\n",
    "       (1, 1667637500, \"click\", 101, 'Sport', True),\n",
    "        (1, 1667647505, \"visit\", 102, 'News', True),\n",
    "         (1, 1667657565, \"click\", 102, 'News', True), \n",
    "         (1, 1667667586, \"visit\", 103, 'Sport', True),\n",
    "          (2, 1667678001, \"visit\", 104, 'News', True),\n",
    "           (2, 1667688101, \"scroll\", 104, 'News', True), \n",
    "           (2, 1667698151, \"click\", 104, 'News', True),\n",
    "            (2, 1667618200, \"visit\", 105, 'Money', True),\n",
    "             (2, 1667628226, \"click\", 105, 'Money', True),\n",
    "              (2, 1667628317, \"visit\", 106, 'Money', True), \n",
    "              (2, 1667638359, \"scroll\", 106, 'Money', True),\n",
    "               (3, 1667638422, \"visit\", 101, 'Sport', False),\n",
    "                (3, 1667648486, \"scroll\", 101, 'Sport', False),\n",
    "                 (4, 1667648505, \"visit\", 106, 'Money', False),\n",
    "                  (5, 1667658511, \"visit\", 101, 'Sport', True),\n",
    "                   (5, 1667658901, \"click\", 101, 'Sport', True),\n",
    "                    (5, 1667658926, \"visit\", 102, 'News', True),\n",
    "                     (5, 1667658976, \"click\", 102, 'News', True),\n",
    "                      (6, 1667669359, \"scroll\", 106, 'Money', False),\n",
    "                       (6, 1667679422, \"visit\", 101, 'Sport', False),\n",
    "                        (6, 1667679486, \"scroll\", 101, 'Sport', False),\n",
    "                         (6, 1667689505, \"visit\", 106, 'Money', False),\n",
    "                          (6, 1667699511, \"visit\", 102, 'News', False),\n",
    "                           (7, 1667669901, \"click\", 101, 'Sport', True),\n",
    "                            (7, 1667659926, \"visit\", 102, 'News', True),\n",
    "                             (7, 1667649976, \"click\", 102, 'News', True)]\n",
    "df_web = spark.createDataFrame(data = data, schema = schema)"
   ]
  },
  {
   "cell_type": "markdown",
   "metadata": {},
   "source": [
    " Решите следующие задачи:\n",
    "\n",
    "· Вывести топ-5 самых активных посетителей сайта\n",
    "\n",
    "· Посчитать процент посетителей, у которых есть ЛК\n",
    "\n",
    "· Вывести топ-5 страниц сайта по показателю общего кол-ва кликов на данной странице\n",
    "\n",
    "· Добавьте столбец к фрейму данных со значением временного диапазона в рамках суток с размером окна – 4 часа(0-4, 4-8, 8-12 и т.д.)\n",
    "\n",
    "· Выведите временной промежуток на основе предыдущего задания, в течение которого было больше всего активностей на сайте.\n",
    "\n",
    "· Создайте второй фрейм данных, который будет содержать информацию о ЛК посетителя сайта со следующим списком атрибутов\n",
    "\n",
    "1. Id – уникальный идентификатор личного кабинета\n",
    "\n",
    "2. User_id – уникальный идентификатор посетителя\n",
    "\n",
    "3. ФИО посетителя\n",
    "\n",
    "4.Дату рождения посетителя \n",
    "\n",
    "5. Дата создания ЛК\n",
    "\n",
    "· Вывести фамилии посетителей, которые читали хотя бы одну новость про спорт."
   ]
  },
  {
   "cell_type": "code",
   "execution_count": 13,
   "metadata": {},
   "outputs": [
    {
     "name": "stdout",
     "output_type": "stream",
     "text": [
      "+---+--------+\n",
      "| id|activity|\n",
      "+---+--------+\n",
      "|  2|       7|\n",
      "|  1|       6|\n",
      "|  6|       5|\n",
      "|  5|       4|\n",
      "|  7|       3|\n",
      "+---+--------+\n",
      "only showing top 5 rows\n",
      "\n"
     ]
    }
   ],
   "source": [
    "#1\n",
    "df_web.groupby(\"id\").agg(F.count(\"*\").alias(\"activity\")).orderBy(\"activity\", ascending = False).show(5)"
   ]
  },
  {
   "cell_type": "code",
   "execution_count": 14,
   "metadata": {},
   "outputs": [
    {
     "name": "stdout",
     "output_type": "stream",
     "text": [
      "Доля пользователей с лк: 57.1%\n"
     ]
    }
   ],
   "source": [
    "#2 \n",
    "r_lk = df_web.filter(\"sign = true\").select(\"id\").distinct().count()\n",
    "r_tot = df_web.select(\"id\").distinct().count()\n",
    "print(\"Доля пользователей с лк: {0}%\".format(round(r_lk/r_tot*100,1)))"
   ]
  },
  {
   "cell_type": "code",
   "execution_count": 15,
   "metadata": {},
   "outputs": [
    {
     "name": "stdout",
     "output_type": "stream",
     "text": [
      "+-------+-----+\n",
      "|page_id|count|\n",
      "+-------+-----+\n",
      "|    101|    3|\n",
      "|    102|    3|\n",
      "|    105|    1|\n",
      "|    104|    1|\n",
      "+-------+-----+\n",
      "\n"
     ]
    }
   ],
   "source": [
    "#3\n",
    "df_web.filter('type = \"click\"').groupby(\"page_id\").count().orderBy(\"count\",ascending = False).show(5)"
   ]
  },
  {
   "cell_type": "code",
   "execution_count": 17,
   "metadata": {},
   "outputs": [
    {
     "name": "stdout",
     "output_type": "stream",
     "text": [
      "+---+----------+------+-------+-----+-----+------+\n",
      "| id| timestamp|  type|page_id|  tag| sign|period|\n",
      "+---+----------+------+-------+-----+-----+------+\n",
      "|  1|1667617426| visit|    101|Sport| true|     1|\n",
      "|  1|1667627486|scroll|    101|Sport| true|     2|\n",
      "|  1|1667637500| click|    101|Sport| true|     2|\n",
      "|  1|1667647505| visit|    102| News| true|     3|\n",
      "|  1|1667657565| click|    102| News| true|     4|\n",
      "|  1|1667667586| visit|    103|Sport| true|     4|\n",
      "|  2|1667678001| visit|    104| News| true|     5|\n",
      "|  2|1667688101|scroll|    104| News| true|     0|\n",
      "|  2|1667698151| click|    104| News| true|     1|\n",
      "|  2|1667618200| visit|    105|Money| true|     1|\n",
      "|  2|1667628226| click|    105|Money| true|     2|\n",
      "|  2|1667628317| visit|    106|Money| true|     2|\n",
      "|  2|1667638359|scroll|    106|Money| true|     2|\n",
      "|  3|1667638422| visit|    101|Sport|false|     2|\n",
      "|  3|1667648486|scroll|    101|Sport|false|     3|\n",
      "|  4|1667648505| visit|    106|Money|false|     3|\n",
      "|  5|1667658511| visit|    101|Sport| true|     4|\n",
      "|  5|1667658901| click|    101|Sport| true|     4|\n",
      "|  5|1667658926| visit|    102| News| true|     4|\n",
      "|  5|1667658976| click|    102| News| true|     4|\n",
      "|  6|1667669359|scroll|    106|Money|false|     5|\n",
      "|  6|1667679422| visit|    101|Sport|false|     5|\n",
      "|  6|1667679486|scroll|    101|Sport|false|     5|\n",
      "|  6|1667689505| visit|    106|Money|false|     0|\n",
      "|  6|1667699511| visit|    102| News|false|     1|\n",
      "|  7|1667669901| click|    101|Sport| true|     5|\n",
      "|  7|1667659926| visit|    102| News| true|     4|\n",
      "|  7|1667649976| click|    102| News| true|     3|\n",
      "+---+----------+------+-------+-----+-----+------+\n",
      "\n"
     ]
    }
   ],
   "source": [
    "#4\n",
    "df_web.withColumn(\"period\", F.floor(F.hour(F.from_unixtime(F.col('timestamp'))) / F.lit(4))).show(50)"
   ]
  },
  {
   "cell_type": "code",
   "execution_count": 18,
   "metadata": {},
   "outputs": [
    {
     "name": "stdout",
     "output_type": "stream",
     "text": [
      "+------+\n",
      "|period|\n",
      "+------+\n",
      "|     4|\n",
      "+------+\n",
      "only showing top 1 row\n",
      "\n"
     ]
    }
   ],
   "source": [
    "#5\n",
    "df1 = df_web.withColumn(\"period\", F.floor(F.hour(F.from_unixtime(F.col('timestamp'))) / F.lit(4)))\\\n",
    ".groupby(\"period\").count().orderBy(\"count\", ascending = False).select(\"period\").show(1)\n"
   ]
  },
  {
   "cell_type": "code",
   "execution_count": 19,
   "metadata": {},
   "outputs": [],
   "source": [
    "#6\n",
    "schema_lk = T.StructType([T.StructField(\"id\", T.StringType(), True),T.StructField(\"user_id\", T.IntegerType(), True),T.StructField(\"fio\", T.StringType(), True),\n",
    "T.StructField(\"dob\", T.DateType(), True),T.StructField(\"doc\", T.DateType(), True)])\n",
    "\n",
    "data_lk = [(101, 2, \"Иванов Иван Иванович\", datetime.datetime(1990, 7, 5), datetime.datetime(2016, 8, 1)),(102, 5, \"Петров Петр Петрович\", datetime.datetime(1995, 1, 22), datetime.datetime(2017, 10, 7)),(103, 1, \"Сидоров Сидр Сидорович\", datetime.datetime(1975, 8, 12), datetime.datetime(2018, 10, 7)),\n",
    "(104, 6, \"Олегов Олег Олегович\", datetime.datetime(1980, 4, 15), datetime.datetime(2019, 7, 15))\n",
    "]\n",
    "\n",
    "df_lk = spark.createDataFrame(data = data_lk, schema = schema_lk)"
   ]
  },
  {
   "cell_type": "code",
   "execution_count": 20,
   "metadata": {},
   "outputs": [
    {
     "name": "stdout",
     "output_type": "stream",
     "text": [
      "+---+-------+--------------------+----------+----------+---+----------+------+-------+-----+-----+\n",
      "| id|user_id|                 fio|       dob|       doc| id| timestamp|  type|page_id|  tag| sign|\n",
      "+---+-------+--------------------+----------+----------+---+----------+------+-------+-----+-----+\n",
      "|103|      1|Сидоров Сидр Сидо...|1975-08-12|2018-10-07|  1|1667667586| visit|    103|Sport| true|\n",
      "|103|      1|Сидоров Сидр Сидо...|1975-08-12|2018-10-07|  1|1667657565| click|    102| News| true|\n",
      "|103|      1|Сидоров Сидр Сидо...|1975-08-12|2018-10-07|  1|1667647505| visit|    102| News| true|\n",
      "|103|      1|Сидоров Сидр Сидо...|1975-08-12|2018-10-07|  1|1667637500| click|    101|Sport| true|\n",
      "|103|      1|Сидоров Сидр Сидо...|1975-08-12|2018-10-07|  1|1667627486|scroll|    101|Sport| true|\n",
      "|103|      1|Сидоров Сидр Сидо...|1975-08-12|2018-10-07|  1|1667617426| visit|    101|Sport| true|\n",
      "|104|      6|Олегов Олег Олегович|1980-04-15|2019-07-15|  6|1667699511| visit|    102| News|false|\n",
      "|104|      6|Олегов Олег Олегович|1980-04-15|2019-07-15|  6|1667689505| visit|    106|Money|false|\n",
      "|104|      6|Олегов Олег Олегович|1980-04-15|2019-07-15|  6|1667679486|scroll|    101|Sport|false|\n",
      "|104|      6|Олегов Олег Олегович|1980-04-15|2019-07-15|  6|1667679422| visit|    101|Sport|false|\n",
      "+---+-------+--------------------+----------+----------+---+----------+------+-------+-----+-----+\n",
      "only showing top 10 rows\n",
      "\n"
     ]
    }
   ],
   "source": [
    "df_all = df_lk.alias(\"lk\").join(df_web.alias(\"web\"),on = [F.col(\"lk.user_id\") == F.col(\"web.id\")],how = \"left\")\n",
    "df_all.show(10)"
   ]
  },
  {
   "cell_type": "code",
   "execution_count": 21,
   "metadata": {},
   "outputs": [
    {
     "name": "stdout",
     "output_type": "stream",
     "text": [
      "+-------+\n",
      "| Family|\n",
      "+-------+\n",
      "| Петров|\n",
      "|Сидоров|\n",
      "| Олегов|\n",
      "+-------+\n",
      "\n"
     ]
    }
   ],
   "source": [
    "#7\n",
    "df_all.filter('tag = \"Sport\" AND ( type = \"scroll\" OR type = \"visit\")').select(F.split(df_all.fio,' ')[0].alias(\"Family\")).distinct().show()\n"
   ]
  }
 ],
 "metadata": {
  "kernelspec": {
   "display_name": "Python 3.8.5 ('venv': venv)",
   "language": "python",
   "name": "python3"
  },
  "language_info": {
   "codemirror_mode": {
    "name": "ipython",
    "version": 3
   },
   "file_extension": ".py",
   "mimetype": "text/x-python",
   "name": "python",
   "nbconvert_exporter": "python",
   "pygments_lexer": "ipython3",
   "version": "3.8.5"
  },
  "orig_nbformat": 4,
  "vscode": {
   "interpreter": {
    "hash": "22c4327166904f7578efbe104f6b38ea78db317a666431c85eab41a3395eeb16"
   }
  }
 },
 "nbformat": 4,
 "nbformat_minor": 2
}
