{
 "cells": [
  {
   "cell_type": "code",
   "execution_count": 102,
   "metadata": {},
   "outputs": [],
   "source": [
    "#!pip install clickhouse-driver"
   ]
  },
  {
   "cell_type": "code",
   "execution_count": 120,
   "metadata": {},
   "outputs": [],
   "source": [
    "from clickhouse_driver import Client\n",
    "from time import perf_counter\n",
    "import pandas as pd\n",
    "import matplotlib.pyplot as plt"
   ]
  },
  {
   "attachments": {},
   "cell_type": "markdown",
   "metadata": {},
   "source": [
    "1. Подключение к базе clickhouse и проверка работы соединения"
   ]
  },
  {
   "cell_type": "code",
   "execution_count": 121,
   "metadata": {},
   "outputs": [
    {
     "name": "stdout",
     "output_type": "stream",
     "text": [
      "[(62201362,)]\n"
     ]
    }
   ],
   "source": [
    "client = Client('ip',\n",
    "                user='user',\n",
    "                port = 9001,\n",
    "                password='passsowrd',\n",
    "                secure=False,\n",
    "                verify=False,\n",
    "                database='database')\n",
    "result = client.execute('select count(*) from database.mdl_logstore_standard_log;')\n",
    "print(result)"
   ]
  },
  {
   "attachments": {},
   "cell_type": "markdown",
   "metadata": {},
   "source": [
    "Все работает, идем дальше.\n",
    "\n",
    "2. Количество уникальных ip-адресов за сутки и за неделю, также выведем адреса, которые заходили за последнюю минуту чаще, чем 10 раз (подозренее на DDOS)"
   ]
  },
  {
   "cell_type": "code",
   "execution_count": 105,
   "metadata": {},
   "outputs": [
    {
     "name": "stdout",
     "output_type": "stream",
     "text": [
      "Число ip за сегодня - 453\n",
      "Число ip за неделю - 1098\n",
      "Подозрение на DDOS - 0\n",
      "Время выполнение 2.547540500003379 сек\n"
     ]
    }
   ],
   "source": [
    "start_time = perf_counter()\n",
    "result = client.execute('SELECT count(distinct ip) FROM database.mdl_logstore_standard_log where FROM_UNIXTIME(timecreated)>toStartOfDay(now())')\n",
    "print(f\"Число ip за сегодня - {result[0][0]}\")\n",
    "result = client.execute('SELECT count(distinct ip) FROM database.mdl_logstore_standard_log where FROM_UNIXTIME(timecreated)>toStartOfWeek(now())')\n",
    "print(f\"Число ip за неделю - {result[0][0]}\")\n",
    "result = client.execute('SELECT * from (SELECT ip, count(*) as cnt FROM database.mdl_logstore_standard_log where FROM_UNIXTIME(timecreated)>toStartOfFiveMinutes(now()) group by ip) where cnt>100')\n",
    "print(f\"Подозрение на DDOS - {len(result)}\")\n",
    "for ip, count_ip in result:\n",
    "    print(\"\\t\" + f\"{ip} - {count_ip}\")\n",
    "print(f\"Время выполнение {perf_counter()-start_time} сек\")"
   ]
  },
  {
   "attachments": {},
   "cell_type": "markdown",
   "metadata": {},
   "source": [
    "3. Количество уникальных посетителей за сутки и за неделю"
   ]
  },
  {
   "cell_type": "code",
   "execution_count": 106,
   "metadata": {},
   "outputs": [
    {
     "name": "stdout",
     "output_type": "stream",
     "text": [
      "Число уникальных посетителей сегодня за сегодня - 462\n",
      "Число уникальных посетителей за неделю - 962\n",
      "Время выполнение 0.47527009999612346 сек\n"
     ]
    }
   ],
   "source": [
    "start_time = perf_counter()\n",
    "result = client.execute('SELECT count(distinct userid) FROM database.mdl_logstore_standard_log where FROM_UNIXTIME(timecreated)>toStartOfDay(now())')\n",
    "print(f\"Число уникальных посетителей сегодня за сегодня - {result[0][0]}\")\n",
    "result = client.execute('SELECT count(distinct userid) FROM database.mdl_logstore_standard_log where FROM_UNIXTIME(timecreated)>toStartOfWeek(now())')\n",
    "print(f\"Число уникальных посетителей за неделю - {result[0][0]}\")\n",
    "print(f\"Время выполнение {perf_counter()-start_time} сек\")"
   ]
  },
  {
   "attachments": {},
   "cell_type": "markdown",
   "metadata": {},
   "source": [
    "4. Количество активных курсов за день и неделю, также выводим id самых активных курсов за неделю (нужны для отчетности)"
   ]
  },
  {
   "cell_type": "code",
   "execution_count": 107,
   "metadata": {},
   "outputs": [
    {
     "name": "stdout",
     "output_type": "stream",
     "text": [
      "Число активных курсов за сегодня - 2222\n",
      "Число активных курсов за неделю - 3847\n",
      "Самые популярные курсы за неделю - 10\n",
      "\t0 - 4666\n",
      "\t13330 - 4021\n",
      "\t9475 - 3983\n",
      "\t9499 - 2189\n",
      "\t19287 - 1454\n",
      "\t9683 - 1009\n",
      "\t19788 - 611\n",
      "\t9550 - 606\n",
      "\t18734 - 572\n",
      "\t20508 - 481\n",
      "Время выполнение 0.7099160999932792 сек\n"
     ]
    }
   ],
   "source": [
    "start_time = perf_counter()\n",
    "result = client.execute('SELECT count(distinct courseid) FROM database.mdl_logstore_standard_log where FROM_UNIXTIME(timecreated)>toStartOfDay(now())')\n",
    "print(f\"Число активных курсов за сегодня - {result[0][0]}\")\n",
    "result = client.execute('SELECT count(distinct courseid) FROM database.mdl_logstore_standard_log where FROM_UNIXTIME(timecreated)>toStartOfWeek(now())')\n",
    "print(f\"Число активных курсов за неделю - {result[0][0]}\")\n",
    "result = client.execute('SELECT courseid, count(*) as cnt FROM database.mdl_logstore_standard_log where FROM_UNIXTIME(timecreated)>toStartOfWeek(now()) group by courseid order by cnt desc limit 10')\n",
    "print(f\"Самые популярные курсы за неделю - {len(result)}\")\n",
    "for id, count_id in result:\n",
    "    print(\"\\t\" + f\"{id} - {count_id}\")\n",
    "print(f\"Время выполнение {perf_counter()-start_time} сек\")\n"
   ]
  },
  {
   "attachments": {},
   "cell_type": "markdown",
   "metadata": {},
   "source": [
    "5. Проверка и анализ посещаемости, поиск периодичности (за последние 3 дня)"
   ]
  },
  {
   "cell_type": "code",
   "execution_count": 132,
   "metadata": {},
   "outputs": [
    {
     "name": "stdout",
     "output_type": "stream",
     "text": [
      "Активность пользователей за последние 3 дня\n",
      "13 ч. 25 д. - 124940\n",
      "14 ч. 25 д. - 318440\n",
      "15 ч. 25 д. - 379150\n",
      "16 ч. 25 д. - 453640\n",
      "17 ч. 25 д. - 452720\n",
      "18 ч. 25 д. - 425810\n",
      "19 ч. 25 д. - 436930\n",
      "20 ч. 25 д. - 413860\n",
      "21 ч. 25 д. - 446590\n",
      "22 ч. 25 д. - 424710\n",
      "23 ч. 25 д. - 355670\n",
      "0 ч. 26 д. - 248020\n",
      "1 ч. 26 д. - 146120\n",
      "2 ч. 26 д. - 135780\n",
      "3 ч. 26 д. - 53150\n",
      "4 ч. 26 д. - 29120\n",
      "5 ч. 26 д. - 47460\n",
      "6 ч. 26 д. - 91150\n",
      "7 ч. 26 д. - 216790\n",
      "8 ч. 26 д. - 623230\n",
      "9 ч. 26 д. - 914150\n",
      "10 ч. 26 д. - 1068040\n",
      "11 ч. 26 д. - 1089140\n",
      "12 ч. 26 д. - 1054970\n",
      "13 ч. 26 д. - 1013450\n",
      "14 ч. 26 д. - 972550\n",
      "15 ч. 26 д. - 807240\n",
      "16 ч. 26 д. - 690510\n",
      "17 ч. 26 д. - 593860\n",
      "18 ч. 26 д. - 544440\n",
      "19 ч. 26 д. - 545710\n",
      "20 ч. 26 д. - 500130\n",
      "21 ч. 26 д. - 481260\n",
      "22 ч. 26 д. - 437980\n",
      "23 ч. 26 д. - 383030\n",
      "0 ч. 27 д. - 199760\n",
      "1 ч. 27 д. - 131740\n",
      "2 ч. 27 д. - 73070\n",
      "3 ч. 27 д. - 53420\n",
      "4 ч. 27 д. - 43770\n",
      "5 ч. 27 д. - 48380\n",
      "6 ч. 27 д. - 71000\n",
      "7 ч. 27 д. - 175730\n",
      "8 ч. 27 д. - 515340\n",
      "9 ч. 27 д. - 798570\n",
      "10 ч. 27 д. - 990120\n",
      "11 ч. 27 д. - 1055780\n",
      "12 ч. 27 д. - 823350\n",
      "13 ч. 27 д. - 667009\n"
     ]
    },
    {
     "data": {
      "image/png": "[encoded data removed]",
      "text/plain": [
       "<Figure size 1440x1080 with 1 Axes>"
      ]
     },
     "metadata": {
      "needs_background": "light"
     },
     "output_type": "display_data"
    }
   ],
   "source": [
    "start_time = perf_counter()\n",
    "result = client.execute('select * from (SELECT toHour(time) AS hour, toDayOfMonth(time) AS day, count() FROM default.log where time>now()-2*24*60*60 and time is not null GROUP BY hour, day WITH ROLLUP order by day,hour) where day!=0;')\n",
    "print(\"Активность пользователей за последние 3 дня\")\n",
    "array_x = []\n",
    "array_y = []\n",
    "for res in result:\n",
    "    print(f\"{res[0]} ч. {res[1]} д. - {res[2]}\")\n",
    "    array_x.append(f\"{res[0]}ч.{res[1]}\")\n",
    "    array_y.append(res[2])\n",
    "\n",
    "fig = plt.figure(figsize = (20, 15))\n",
    "plt.bar(array_x, array_y, color ='maroon', width = 0.4)\n",
    "plt.xticks(rotation=90)\n",
    "plt.xlabel(\"Дата\")\n",
    "plt.ylabel(\"Активность\")\n",
    "plt.title(\"Активность пользователей за последние 3 дня\")\n",
    "plt.show()"
   ]
  }
 ],
 "metadata": {
  "kernelspec": {
   "display_name": "Python 3",
   "language": "python",
   "name": "python3"
  },
  "language_info": {
   "codemirror_mode": {
    "name": "ipython",
    "version": 3
   },
   "file_extension": ".py",
   "mimetype": "text/x-python",
   "name": "python",
   "nbconvert_exporter": "python",
   "pygments_lexer": "ipython3",
   "version": "3.8.5"
  },
  "orig_nbformat": 4,
  "vscode": {
   "interpreter": {
    "hash": "54bcd20706014be78591816f36bd2584159a9944126a8c4be89c37c7e1998045"
   }
  }
 },
 "nbformat": 4,
 "nbformat_minor": 2
}
